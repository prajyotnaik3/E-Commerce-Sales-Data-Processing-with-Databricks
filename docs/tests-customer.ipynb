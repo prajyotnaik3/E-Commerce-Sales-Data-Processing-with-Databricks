{
 "cells": [
  {
   "cell_type": "code",
   "execution_count": 0,
   "metadata": {
    "application/vnd.databricks.v1+cell": {
     "cellMetadata": {
      "byteLimit": 2048000,
      "rowLimit": 10000
     },
     "inputWidgets": {},
     "nuid": "8fe8fda2-9129-4aa8-8d97-086ab303b20c",
     "showTitle": false,
     "title": ""
    }
   },
   "outputs": [],
   "source": [
    "import unittest\n",
    "from py4j.protocol import Py4JJavaError\n",
    "from pyspark.errors.exceptions.captured import AnalysisException\n",
    "from pyspark.sql.types import StructField, StringType, DoubleType, StructType"
   ]
  },
  {
   "cell_type": "code",
   "execution_count": 0,
   "metadata": {
    "application/vnd.databricks.v1+cell": {
     "cellMetadata": {
      "byteLimit": 2048000,
      "rowLimit": 10000
     },
     "inputWidgets": {},
     "nuid": "ec510dff-b5ec-42d4-b156-5b8427683031",
     "showTitle": false,
     "title": ""
    }
   },
   "outputs": [],
   "source": [
    "%run ../scripts/E-Commerce-Sales-Scripts"
   ]
  },
  {
   "cell_type": "code",
   "execution_count": 0,
   "metadata": {
    "application/vnd.databricks.v1+cell": {
     "cellMetadata": {
      "byteLimit": 2048000,
      "rowLimit": 10000
     },
     "inputWidgets": {},
     "nuid": "3be609ed-8c9a-4f89-8721-a90b867806f1",
     "showTitle": false,
     "title": ""
    }
   },
   "outputs": [
    {
     "output_type": "stream",
     "name": "stderr",
     "output_type": "stream",
     "text": [
      "test_create_customers (__main__.TestCustomerIngestion) ... /usr/lib/python3.10/socket.py:776: ResourceWarning: unclosed <socket.socket fd=58, family=AddressFamily.AF_INET, type=SocketKind.SOCK_STREAM, proto=6, laddr=('127.0.0.1', 60776), raddr=('127.0.0.1', 41957)>\n  self._sock = None\nResourceWarning: Enable tracemalloc to get the object allocation traceback\n/usr/lib/python3.10/socket.py:776: ResourceWarning: unclosed <socket.socket fd=58, family=AddressFamily.AF_INET, type=SocketKind.SOCK_STREAM, proto=6, laddr=('127.0.0.1', 53672), raddr=('127.0.0.1', 35815)>\n  self._sock = None\nResourceWarning: Enable tracemalloc to get the object allocation traceback\n/usr/lib/python3.10/socket.py:776: ResourceWarning: unclosed <socket.socket fd=58, family=AddressFamily.AF_INET, type=SocketKind.SOCK_STREAM, proto=6, laddr=('127.0.0.1', 57188), raddr=('127.0.0.1', 40345)>\n  self._sock = None\nResourceWarning: Enable tracemalloc to get the object allocation traceback\n/usr/lib/python3.10/socket.py:776: ResourceWarning: unclosed <socket.socket fd=58, family=AddressFamily.AF_INET, type=SocketKind.SOCK_STREAM, proto=6, laddr=('127.0.0.1', 49580), raddr=('127.0.0.1', 41817)>\n  self._sock = None\nResourceWarning: Enable tracemalloc to get the object allocation traceback\nok\ntest_nonexistent_file (__main__.TestCustomerIngestion) ... ok\n\n----------------------------------------------------------------------\nRan 2 tests in 17.495s\n\nOK\n"
     ]
    }
   ],
   "source": [
    "class TestCustomerIngestion(unittest.TestCase):\n",
    "\n",
    "    def test_nonexistent_file(self):\n",
    "        file_path = \"/data/Customer.xlsx\"\n",
    "        with self.assertRaises(Py4JJavaError):\n",
    "            create_customers_raw_df(file_path)\n",
    "\n",
    "    def test_create_customers(self):\n",
    "        file_path = get_absolute_file_path(\"/data/Customer.xlsx\")\n",
    "        expected_columns_raw = [('customerID', 'string'), ('customerName', 'string'), ('email', 'string'),  ('phone', 'string'), ('address', 'string'), ('segment', 'string'), ('country', 'string'), ('city', 'string'), ('state', 'string'), ('postalCode', 'string'), ('region', 'string')]\n",
    "        table_raw = \"ecommerce_sales_test.customers_raw\"\n",
    "        expected_columns_enriched = [('customerID', 'string'), ('customerName', 'string'), ('email', 'string'),  ('phone', 'string'), ('address', 'string'), ('segment', 'string'), ('country', 'string'), ('city', 'string'), ('state', 'string'), ('postalCode', 'string'), ('region', 'string')]\n",
    "        table_enriched = \"ecommerce_sales_test.customers_enriched\"\n",
    "        \n",
    "        df = create_customers_raw_df(file_path)\n",
    "        self.assertTrue(df)\n",
    "        self.assertEqual(df.dtypes, expected_columns_raw)\n",
    "        self.assertEqual(df.filter(df[\"customerID\"].isNull()).count(), 0)\n",
    "        self.assertEqual(df.filter(df[\"customerName\"].isNull()).count(), 8)\n",
    "        self.assertEqual(df.filter(df[\"email\"].isNull()).count(), 0)\n",
    "        self.assertEqual(df.filter(df[\"phone\"].isNull()).count(), 0)\n",
    "        self.assertEqual(df.filter(df[\"address\"].isNull()).count(), 0)\n",
    "        self.assertEqual(df.filter(df[\"segment\"].isNull()).count(), 0)\n",
    "        self.assertEqual(df.filter(df[\"country\"].isNull()).count(), 0)\n",
    "        self.assertEqual(df.filter(df[\"city\"].isNull()).count(), 0)\n",
    "        self.assertEqual(df.filter(df[\"state\"].isNull()).count(), 0)\n",
    "        self.assertEqual(df.filter(df[\"postalCode\"].isNull()).count(), 0)\n",
    "        self.assertEqual(df.filter(df[\"region\"].isNull()).count(), 0)\n",
    "\n",
    "        create_delta_table(table_raw, df)\n",
    "        df2 = spark.table(table_raw)\n",
    "\n",
    "        self.assertTrue(df2)\n",
    "        self.assertEqual(df.dtypes, df2.dtypes)\n",
    "        self.assertEqual(df2.exceptAll(df).rdd.isEmpty(), True)\n",
    "        self.assertEqual(df.exceptAll(df2).rdd.isEmpty(), True)\n",
    "        \n",
    "        with self.assertRaises(AnalysisException):\n",
    "            df3 = create_products_enriched_df(\"ecommerce_sales_test.customers_raw_temp\")\n",
    "\n",
    "        df3 = create_customers_enriched_df(table_raw)\n",
    "\n",
    "        self.assertTrue(df3)\n",
    "        self.assertEqual(df3.dtypes, expected_columns_enriched)\n",
    "        self.assertEqual(df3.filter(df3[\"customerID\"].isNull()).count(), 0)\n",
    "        self.assertEqual(df3.filter(df3[\"customerName\"].isNull()).count(), 8)\n",
    "        self.assertEqual(df3.filter(df3[\"email\"].isNull()).count(), 0)\n",
    "        self.assertEqual(df3.filter(df3[\"phone\"].isNull()).count(), 0)\n",
    "        self.assertEqual(df3.filter(df3[\"address\"].isNull()).count(), 0)\n",
    "        self.assertEqual(df3.filter(df3[\"segment\"].isNull()).count(), 0)\n",
    "        self.assertEqual(df3.filter(df3[\"country\"].isNull()).count(), 0)\n",
    "        self.assertEqual(df3.filter(df3[\"city\"].isNull()).count(), 0)\n",
    "        self.assertEqual(df3.filter(df3[\"state\"].isNull()).count(), 0)\n",
    "        self.assertEqual(df3.filter(df3[\"postalCode\"].isNull()).count(), 0)\n",
    "        self.assertEqual(df3.filter(df3[\"region\"].isNull()).count(), 0)\n",
    "        \n",
    "        create_delta_table(table_enriched, df3)\n",
    "        df4 = spark.table(table_enriched)\n",
    "        self.assertEqual(df3.dtypes, df4.dtypes)\n",
    "        self.assertEqual(df3.exceptAll(df4).rdd.isEmpty(), True)\n",
    "        self.assertEqual(df4.exceptAll(df3).rdd.isEmpty(), True)\n",
    "\n",
    "r = unittest.main(argv=[''], verbosity=2, exit=False)\n",
    "assert r.result.wasSuccessful(), 'Test failed; see logs above'"
   ]
  }
 ],
 "metadata": {
  "application/vnd.databricks.v1+notebook": {
   "dashboards": [],
   "language": "python",
   "notebookMetadata": {
    "pythonIndentUnit": 4
   },
   "notebookName": "tests-customer",
   "widgets": {}
  }
 },
 "nbformat": 4,
 "nbformat_minor": 0
}
